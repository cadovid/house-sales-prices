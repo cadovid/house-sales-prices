{
 "cells": [
  {
   "cell_type": "markdown",
   "metadata": {
    "collapsed": true
   },
   "source": [
    "## Predicting House Sale Prices\n",
    "\n",
    "For this project, we'll see how to develop the __linear regression model__ for predicting house sale prices at the same time we understand different approaches to model fitting, and some techniques for cleaning, transforming, and selecting features.\n",
    "\n",
    "We'll work with housing data for the city of Ames, Iowa, United States from 2006 to 2010. Some information about the dataset can be founded [here](https://www.tandfonline.com/doi/abs/10.1080/10691898.2011.11889627) and the different columns of the set are explained [here](https://s3.amazonaws.com/dq-content/307/data_description.txt).\n",
    "\n",
    "We'll start by setting up a pipeline of functions that will let us quickly iterate on different models.\n",
    "\n",
    "### Setting up the environment"
   ]
  },
  {
   "cell_type": "code",
   "execution_count": 70,
   "metadata": {
    "collapsed": false
   },
   "outputs": [],
   "source": [
    "# Imports\n",
    "import pandas as pd\n",
    "import numpy as np\n",
    "from sklearn.linear_model import LinearRegression\n",
    "from sklearn.metrics import mean_squared_error\n",
    "from sklearn.model_selection import KFold\n",
    "import seaborn as sns\n",
    "import matplotlib.pyplot as plt\n",
    "%matplotlib inline"
   ]
  },
  {
   "cell_type": "code",
   "execution_count": 2,
   "metadata": {
    "collapsed": false
   },
   "outputs": [
    {
     "name": "stdout",
     "output_type": "stream",
     "text": [
      "<class 'pandas.core.frame.DataFrame'>\n",
      "RangeIndex: 2930 entries, 0 to 2929\n",
      "Data columns (total 82 columns):\n",
      "Order              2930 non-null int64\n",
      "PID                2930 non-null int64\n",
      "MS SubClass        2930 non-null int64\n",
      "MS Zoning          2930 non-null object\n",
      "Lot Frontage       2440 non-null float64\n",
      "Lot Area           2930 non-null int64\n",
      "Street             2930 non-null object\n",
      "Alley              198 non-null object\n",
      "Lot Shape          2930 non-null object\n",
      "Land Contour       2930 non-null object\n",
      "Utilities          2930 non-null object\n",
      "Lot Config         2930 non-null object\n",
      "Land Slope         2930 non-null object\n",
      "Neighborhood       2930 non-null object\n",
      "Condition 1        2930 non-null object\n",
      "Condition 2        2930 non-null object\n",
      "Bldg Type          2930 non-null object\n",
      "House Style        2930 non-null object\n",
      "Overall Qual       2930 non-null int64\n",
      "Overall Cond       2930 non-null int64\n",
      "Year Built         2930 non-null int64\n",
      "Year Remod/Add     2930 non-null int64\n",
      "Roof Style         2930 non-null object\n",
      "Roof Matl          2930 non-null object\n",
      "Exterior 1st       2930 non-null object\n",
      "Exterior 2nd       2930 non-null object\n",
      "Mas Vnr Type       2907 non-null object\n",
      "Mas Vnr Area       2907 non-null float64\n",
      "Exter Qual         2930 non-null object\n",
      "Exter Cond         2930 non-null object\n",
      "Foundation         2930 non-null object\n",
      "Bsmt Qual          2850 non-null object\n",
      "Bsmt Cond          2850 non-null object\n",
      "Bsmt Exposure      2847 non-null object\n",
      "BsmtFin Type 1     2850 non-null object\n",
      "BsmtFin SF 1       2929 non-null float64\n",
      "BsmtFin Type 2     2849 non-null object\n",
      "BsmtFin SF 2       2929 non-null float64\n",
      "Bsmt Unf SF        2929 non-null float64\n",
      "Total Bsmt SF      2929 non-null float64\n",
      "Heating            2930 non-null object\n",
      "Heating QC         2930 non-null object\n",
      "Central Air        2930 non-null object\n",
      "Electrical         2929 non-null object\n",
      "1st Flr SF         2930 non-null int64\n",
      "2nd Flr SF         2930 non-null int64\n",
      "Low Qual Fin SF    2930 non-null int64\n",
      "Gr Liv Area        2930 non-null int64\n",
      "Bsmt Full Bath     2928 non-null float64\n",
      "Bsmt Half Bath     2928 non-null float64\n",
      "Full Bath          2930 non-null int64\n",
      "Half Bath          2930 non-null int64\n",
      "Bedroom AbvGr      2930 non-null int64\n",
      "Kitchen AbvGr      2930 non-null int64\n",
      "Kitchen Qual       2930 non-null object\n",
      "TotRms AbvGrd      2930 non-null int64\n",
      "Functional         2930 non-null object\n",
      "Fireplaces         2930 non-null int64\n",
      "Fireplace Qu       1508 non-null object\n",
      "Garage Type        2773 non-null object\n",
      "Garage Yr Blt      2771 non-null float64\n",
      "Garage Finish      2771 non-null object\n",
      "Garage Cars        2929 non-null float64\n",
      "Garage Area        2929 non-null float64\n",
      "Garage Qual        2771 non-null object\n",
      "Garage Cond        2771 non-null object\n",
      "Paved Drive        2930 non-null object\n",
      "Wood Deck SF       2930 non-null int64\n",
      "Open Porch SF      2930 non-null int64\n",
      "Enclosed Porch     2930 non-null int64\n",
      "3Ssn Porch         2930 non-null int64\n",
      "Screen Porch       2930 non-null int64\n",
      "Pool Area          2930 non-null int64\n",
      "Pool QC            13 non-null object\n",
      "Fence              572 non-null object\n",
      "Misc Feature       106 non-null object\n",
      "Misc Val           2930 non-null int64\n",
      "Mo Sold            2930 non-null int64\n",
      "Yr Sold            2930 non-null int64\n",
      "Sale Type          2930 non-null object\n",
      "Sale Condition     2930 non-null object\n",
      "SalePrice          2930 non-null int64\n",
      "dtypes: float64(11), int64(28), object(43)\n",
      "memory usage: 1.8+ MB\n",
      "None\n"
     ]
    }
   ],
   "source": [
    "# Read dataset\n",
    "data = pd.read_csv('AmesHousing.tsv', sep='\\t')\n",
    "print(data.info())"
   ]
  },
  {
   "cell_type": "code",
   "execution_count": 3,
   "metadata": {
    "collapsed": true
   },
   "outputs": [],
   "source": [
    "# Function to return a dataframe with the desired features\n",
    "def transform_features(dataset):\n",
    "    return dataset"
   ]
  },
  {
   "cell_type": "code",
   "execution_count": 4,
   "metadata": {
    "collapsed": true
   },
   "outputs": [],
   "source": [
    "# Function to return desired columns from dataframe\n",
    "def select_features(dataset):\n",
    "    return dataset[[\"Gr Liv Area\", \"SalePrice\"]]"
   ]
  },
  {
   "cell_type": "code",
   "execution_count": 68,
   "metadata": {
    "collapsed": true
   },
   "outputs": [],
   "source": [
    "# Function to evaluate the linear regression model\n",
    "def train_and_test(dataset):\n",
    "    threshold = 1460\n",
    "    train = dataset[:threshold]\n",
    "    test = dataset[threshold:]\n",
    "    numerical_cols = dataset.select_dtypes(include=['uint8', 'int', 'float'])\n",
    "    numerical_cols.drop(columns='SalePrice', inplace=True)\n",
    "    cols = numerical_cols.columns\n",
    "    \n",
    "    lr = LinearRegression()\n",
    "    lr.fit(train[cols], train['SalePrice'])\n",
    "    \n",
    "    test_predictions = lr.predict(test[cols])\n",
    "    test_rmse = np.sqrt(mean_squared_error(test['SalePrice'], test_predictions))\n",
    "    \n",
    "    return test_rmse"
   ]
  },
  {
   "cell_type": "markdown",
   "metadata": {},
   "source": [
    "### Feature engineering\n",
    "\n",
    "As a first step to develop the model, let's now start removing features with many missing values, diving deeper into potential categorical features, and transforming text and numerical columns. For this, we'll make use of the previously defined `transform_features` function, updating it so that any column from the data frame with more than 25% (or another cutoff value) missing values is dropped. We'll also need to remove any columns that leak information about the sale. In general, the goal of this function is to:\n",
    "\n",
    "- Remove features that we don't want to use in the model, just based on the number of missing values or data leakage.\n",
    "- Transform features into the proper format (numerical to categorical, scaling numerical, filling in missing values, etc).\n",
    "- Create new features by combining other features.\n",
    "\n",
    "Succeeding in predictive modeling is highly dependent on the quality of features the model has. Libraries like `scikit-learn` have made it quick and easy to simply try and tweak many different models, but cleaning, selecting, and transforming features are still more of an art that requires a bit of human ingenuity. To accomplish this, we'll need to get more familiar with the  columns of the dataset determining what transformations are necessary (if any).\n",
    "\n",
    "#### 1. Handle missing values\n",
    "\n",
    "Now, we'll focus on handling columns with missing values. When values are missing in a column, there are two main approaches we can take:\n",
    "\n",
    "- Remove rows containing missing values for specific columns\n",
    "    - Pro: Rows containing missing values are removed, leaving only clean data for modeling\n",
    "    - Con: Entire observations from the training set are removed, which can reduce overall prediction accuracy\n",
    "- Impute (or replace) missing values using a descriptive statistic from the column\n",
    "    - Pro: Missing values are replaced with potentially similar estimates, preserving the rest of the observation in the model.\n",
    "    - Con: Depending on the approach, we may be adding noisy data for the model to learn\n",
    "\n",
    "The approach we'll use is:\n",
    "\n",
    "- All columns:\n",
    "    Drop any with 5% or more missing values for now.\n",
    "- Text columns:\n",
    "    Drop any with 1 or more missing values for now.\n",
    "- Numerical columns:\n",
    "    For columns with missing values, fill in with the most common value in that column"
   ]
  },
  {
   "cell_type": "code",
   "execution_count": 6,
   "metadata": {
    "collapsed": false
   },
   "outputs": [
    {
     "name": "stdout",
     "output_type": "stream",
     "text": [
      "Total columns to remove: 11\n",
      "Missing Values per column:\n",
      "Pool QC          2917\n",
      "Misc Feature     2824\n",
      "Alley            2732\n",
      "Fence            2358\n",
      "Fireplace Qu     1422\n",
      "Lot Frontage      490\n",
      "Garage Cond       159\n",
      "Garage Qual       159\n",
      "Garage Finish     159\n",
      "Garage Yr Blt     159\n",
      "Garage Type       157\n",
      "dtype: int64\n"
     ]
    }
   ],
   "source": [
    "# All columns\n",
    "threshold = len(data) * 0.05\n",
    "data_null_counts = data.isnull().sum()\n",
    "data_more_five_nan = data_null_counts[data_null_counts > threshold]\n",
    "print('Total columns to remove: {}\\nMissing Values per column:\\n{}'.format(len(data_more_five_nan), data_more_five_nan.sort_values(ascending=False)))\n",
    "data.drop(data_more_five_nan.index, axis=1, inplace=True)"
   ]
  },
  {
   "cell_type": "code",
   "execution_count": 7,
   "metadata": {
    "collapsed": false
   },
   "outputs": [
    {
     "name": "stdout",
     "output_type": "stream",
     "text": [
      "Total columns to remove: 7\n",
      "Missing Values per column:\n",
      "Bsmt Exposure     83\n",
      "BsmtFin Type 2    81\n",
      "BsmtFin Type 1    80\n",
      "Bsmt Cond         80\n",
      "Bsmt Qual         80\n",
      "Mas Vnr Type      23\n",
      "Electrical         1\n",
      "dtype: int64\n"
     ]
    }
   ],
   "source": [
    "# Text columns\n",
    "text_cols = data.select_dtypes(include=['object']).isnull().sum()\n",
    "text_cols_with_nan = text_cols[text_cols != 0]\n",
    "print('Total columns to remove: {}\\nMissing Values per column:\\n{}'.format(len(text_cols_with_nan), text_cols_with_nan.sort_values(ascending=False)))\n",
    "data.drop(text_cols_with_nan.index, axis=1, inplace=True)"
   ]
  },
  {
   "cell_type": "code",
   "execution_count": 8,
   "metadata": {
    "collapsed": false
   },
   "outputs": [
    {
     "name": "stdout",
     "output_type": "stream",
     "text": [
      "Total columns to impute: 9\n",
      "Missing Values per column:\n",
      "Mas Vnr Area      23\n",
      "Bsmt Half Bath     2\n",
      "Bsmt Full Bath     2\n",
      "Garage Area        1\n",
      "Garage Cars        1\n",
      "Total Bsmt SF      1\n",
      "Bsmt Unf SF        1\n",
      "BsmtFin SF 2       1\n",
      "BsmtFin SF 1       1\n",
      "dtype: int64\n"
     ]
    }
   ],
   "source": [
    "# Numerical columns (1)\n",
    "numerical_cols = data.select_dtypes(include=['int', 'float']).isnull().sum()\n",
    "numerical_cols_with_nan = numerical_cols[numerical_cols != 0]\n",
    "print('Total columns to impute: {}\\nMissing Values per column:\\n{}'.format(len(numerical_cols_with_nan), numerical_cols_with_nan.sort_values(ascending=False)))"
   ]
  },
  {
   "cell_type": "code",
   "execution_count": 9,
   "metadata": {
    "collapsed": false
   },
   "outputs": [
    {
     "name": "stdout",
     "output_type": "stream",
     "text": [
      "{'Garage Cars': 2.0, 'Bsmt Half Bath': 0.0, 'Total Bsmt SF': 0.0, 'Garage Area': 0.0, 'Bsmt Full Bath': 0.0, 'Mas Vnr Area': 0.0, 'Bsmt Unf SF': 0.0, 'BsmtFin SF 2': 0.0, 'BsmtFin SF 1': 0.0}\n"
     ]
    }
   ],
   "source": [
    "# Numerical columns (2)\n",
    "modes_dict = data[numerical_cols_with_nan.index].mode().to_dict('records')[0]\n",
    "print(modes_dict)\n",
    "data.fillna(modes_dict, inplace=True)"
   ]
  },
  {
   "cell_type": "code",
   "execution_count": 10,
   "metadata": {
    "collapsed": false
   },
   "outputs": [
    {
     "name": "stdout",
     "output_type": "stream",
     "text": [
      "0    64\n",
      "dtype: int64\n"
     ]
    }
   ],
   "source": [
    "# Check results of removal of the missing values\n",
    "print(data.isnull().sum().value_counts())"
   ]
  },
  {
   "cell_type": "markdown",
   "metadata": {},
   "source": [
    "#### 2. New features creation\n",
    "\n",
    "What new features can we create, that better capture the information in some of the features? To answer this question, a good domain knowledge can help us to understand how to best transform features to represent information well for a linear model. If we're ever confused about a feature or how it should be represented, reading scientific papers or posts by researchers in the specific domain is critical."
   ]
  },
  {
   "cell_type": "code",
   "execution_count": 11,
   "metadata": {
    "collapsed": false
   },
   "outputs": [
    {
     "name": "stdout",
     "output_type": "stream",
     "text": [
      "Wrong values for years_sold:\n",
      "2180   -1\n",
      "dtype: int64\n",
      "Wrong values for years_since_remod:\n",
      "1702   -1\n",
      "2180   -2\n",
      "2181   -1\n",
      "dtype: int64\n"
     ]
    }
   ],
   "source": [
    "# Some practical information\n",
    "years_sold = data['Yr Sold'] - data['Year Built']\n",
    "print('Wrong values for years_sold:', years_sold[years_sold < 0], sep='\\n')\n",
    "years_since_remod = data['Yr Sold'] - data['Year Remod/Add']\n",
    "print('Wrong values for years_since_remod:', years_since_remod[years_since_remod < 0], sep='\\n')\n",
    "\n",
    "# Create new columns\n",
    "data['Years Before Sale'] = years_sold\n",
    "data['Years Since Remod'] = years_since_remod"
   ]
  },
  {
   "cell_type": "code",
   "execution_count": 12,
   "metadata": {
    "collapsed": true
   },
   "outputs": [],
   "source": [
    "# Drop rows with negative values for both of these new features\n",
    "data = data.drop([1702, 2180, 2181], axis=0)\n",
    "\n",
    "# No longer need original year columns\n",
    "data = data.drop([\"Year Built\", \"Year Remod/Add\"], axis = 1)"
   ]
  },
  {
   "cell_type": "markdown",
   "metadata": {},
   "source": [
    "#### 3. Drop non useful columns\n",
    "\n",
    "Finally, we can drop columns which aren't useful for machine learning or other columns that leak data about the final sale."
   ]
  },
  {
   "cell_type": "code",
   "execution_count": 13,
   "metadata": {
    "collapsed": true
   },
   "outputs": [],
   "source": [
    "# Drop columns that aren't useful for ML\n",
    "data = data.drop([\"PID\", \"Order\"], axis=1)\n",
    "\n",
    "# Drop columns that leak info about the final sale\n",
    "data = data.drop([\"Mo Sold\", \"Sale Condition\", \"Sale Type\", \"Yr Sold\"], axis=1)"
   ]
  },
  {
   "cell_type": "markdown",
   "metadata": {},
   "source": [
    "With all of this, we can update the `transform_features` function to obtain the final dataset."
   ]
  },
  {
   "cell_type": "code",
   "execution_count": 14,
   "metadata": {
    "collapsed": true
   },
   "outputs": [],
   "source": [
    "# Function to return a dataframe with the desired features\n",
    "def transform_features(data):\n",
    "    # All columns\n",
    "    threshold = len(data) * 0.05\n",
    "    data_null_counts = data.isnull().sum()\n",
    "    data_more_five_nan = data_null_counts[data_null_counts > threshold]\n",
    "    data.drop(data_more_five_nan.index, axis=1, inplace=True)\n",
    "    # Text columns\n",
    "    text_cols = data.select_dtypes(include=['object']).isnull().sum()\n",
    "    text_cols_with_nan = text_cols[text_cols != 0]\n",
    "    data.drop(text_cols_with_nan.index, axis=1, inplace=True)\n",
    "    # Numerical columns\n",
    "    numerical_cols = data.select_dtypes(include=['int', 'float']).isnull().sum()\n",
    "    numerical_cols_with_nan = numerical_cols[numerical_cols != 0]\n",
    "    modes_dict = data[numerical_cols_with_nan.index].mode().to_dict('records')[0]\n",
    "    data.fillna(modes_dict, inplace=True)\n",
    "    \n",
    "    # Some practical information\n",
    "    years_sold = data['Yr Sold'] - data['Year Built']\n",
    "    years_since_remod = data['Yr Sold'] - data['Year Remod/Add']\n",
    "    # Create new columns\n",
    "    data['Years Before Sale'] = years_sold\n",
    "    data['Years Since Remod'] = years_since_remod\n",
    "    # Drop rows with negative values for both of these new features\n",
    "    data = data.drop([1702, 2180, 2181], axis=0)\n",
    "    # No longer need original year columns\n",
    "    data = data.drop([\"Year Built\", \"Year Remod/Add\"], axis = 1)\n",
    "    \n",
    "    # Drop columns that aren't useful for ML\n",
    "    data = data.drop([\"PID\", \"Order\"], axis=1)\n",
    "    # Drop columns that leak info about the final sale\n",
    "    data = data.drop([\"Mo Sold\", \"Sale Condition\", \"Sale Type\", \"Yr Sold\"], axis=1)\n",
    "    \n",
    "    return data"
   ]
  },
  {
   "cell_type": "code",
   "execution_count": 15,
   "metadata": {
    "collapsed": false
   },
   "outputs": [
    {
     "name": "stdout",
     "output_type": "stream",
     "text": [
      "55275.36731241307\n"
     ]
    }
   ],
   "source": [
    "# Check results\n",
    "df = pd.read_csv(\"AmesHousing.tsv\", delimiter=\"\\t\")\n",
    "transform_df = transform_features(df)\n",
    "filtered_df = select_features(transform_df)\n",
    "rmse = train_and_test(filtered_df)\n",
    "print(rmse)"
   ]
  },
  {
   "cell_type": "markdown",
   "metadata": {},
   "source": [
    "### Feature selection\n",
    "\n",
    "Now that we have cleaned and transformed a lot of the features in the data set, it's time to move on to feature selection for numerical features. In the machine learning workflow, once we've selected the model we want to use, selecting the appropriate features for that model is the next important step. \n",
    "\n",
    "We'll explore how to use correlation between features and the target column, correlation between features, and variance of features to select features.\n",
    "\n",
    "#### 1. Correlation between features and the target column\n",
    "\n",
    "Firstly, let's focus on just how the feature columns correlate with the target column."
   ]
  },
  {
   "cell_type": "code",
   "execution_count": 16,
   "metadata": {
    "collapsed": false
   },
   "outputs": [
    {
     "data": {
      "image/png": "[encoded data removed]",
      "text/plain": [
       "<matplotlib.figure.Figure at 0x7ff34388b828>"
      ]
     },
     "metadata": {},
     "output_type": "display_data"
    }
   ],
   "source": [
    "# Generate a correlation heatmap of the numerical features\n",
    "numerical_data = data.select_dtypes(include=['int', 'float'])\n",
    "corrs = numerical_data.corr()\n",
    "f, ax = plt.subplots(figsize=(24, 12))\n",
    "sns.heatmap(corrs, linewidths=.5, ax=ax)\n",
    "plt.show()"
   ]
  },
  {
   "cell_type": "code",
   "execution_count": 17,
   "metadata": {
    "collapsed": false
   },
   "outputs": [
    {
     "name": "stdout",
     "output_type": "stream",
     "text": [
      "Correlations with our target value:\n",
      "SalePrice            1.000000\n",
      "Overall Qual         0.801206\n",
      "Gr Liv Area          0.717596\n",
      "Garage Cars          0.648361\n",
      "Total Bsmt SF        0.644012\n",
      "Garage Area          0.641425\n",
      "1st Flr SF           0.635185\n",
      "Years Before Sale    0.558979\n",
      "Full Bath            0.546118\n",
      "Years Since Remod    0.534985\n",
      "Mas Vnr Area         0.506983\n",
      "TotRms AbvGrd        0.498574\n",
      "Fireplaces           0.474831\n",
      "BsmtFin SF 1         0.439284\n",
      "Wood Deck SF         0.328183\n",
      "Open Porch SF        0.316262\n",
      "Half Bath            0.284871\n",
      "Bsmt Full Bath       0.276258\n",
      "2nd Flr SF           0.269601\n",
      "Lot Area             0.267520\n",
      "Bsmt Unf SF          0.182751\n",
      "Bedroom AbvGr        0.143916\n",
      "Enclosed Porch       0.128685\n",
      "Kitchen AbvGr        0.119760\n",
      "Screen Porch         0.112280\n",
      "Overall Cond         0.101540\n",
      "MS SubClass          0.085128\n",
      "Pool Area            0.068438\n",
      "Low Qual Fin SF      0.037629\n",
      "Bsmt Half Bath       0.035875\n",
      "3Ssn Porch           0.032268\n",
      "Misc Val             0.019273\n",
      "BsmtFin SF 2         0.006127\n",
      "Name: SalePrice, dtype: float64\n"
     ]
    }
   ],
   "source": [
    "# Correlations with our target value\n",
    "abs_corr_coeffs = numerical_data.corr()['SalePrice'].abs().sort_values(ascending=False)\n",
    "print('Correlations with our target value:', abs_corr_coeffs, sep='\\n')"
   ]
  },
  {
   "cell_type": "markdown",
   "metadata": {},
   "source": [
    "We now have a decent list of candidate features to use in our model, sorted by how strongly they're correlated with the `SalePrice` column. For now, let's keep only the features that have a correlation of 0.4 or higher. This cutoff is a bit arbitrary and, in general, it's a good idea to experiment with this cutoff. For example, we can train and test models using different cutoffs and see where your model stops improving."
   ]
  },
  {
   "cell_type": "code",
   "execution_count": 18,
   "metadata": {
    "collapsed": false
   },
   "outputs": [
    {
     "name": "stdout",
     "output_type": "stream",
     "text": [
      "Selected features correlation:\n",
      "SalePrice            1.000000\n",
      "Overall Qual         0.801206\n",
      "Gr Liv Area          0.717596\n",
      "Garage Cars          0.648361\n",
      "Total Bsmt SF        0.644012\n",
      "Garage Area          0.641425\n",
      "1st Flr SF           0.635185\n",
      "Years Before Sale    0.558979\n",
      "Full Bath            0.546118\n",
      "Years Since Remod    0.534985\n",
      "Mas Vnr Area         0.506983\n",
      "TotRms AbvGrd        0.498574\n",
      "Fireplaces           0.474831\n",
      "BsmtFin SF 1         0.439284\n",
      "Name: SalePrice, dtype: float64\n",
      "Removed features correlation:\n",
      "Wood Deck SF       0.328183\n",
      "Open Porch SF      0.316262\n",
      "Half Bath          0.284871\n",
      "Bsmt Full Bath     0.276258\n",
      "2nd Flr SF         0.269601\n",
      "Lot Area           0.267520\n",
      "Bsmt Unf SF        0.182751\n",
      "Bedroom AbvGr      0.143916\n",
      "Enclosed Porch     0.128685\n",
      "Kitchen AbvGr      0.119760\n",
      "Screen Porch       0.112280\n",
      "Overall Cond       0.101540\n",
      "MS SubClass        0.085128\n",
      "Pool Area          0.068438\n",
      "Low Qual Fin SF    0.037629\n",
      "Bsmt Half Bath     0.035875\n",
      "3Ssn Porch         0.032268\n",
      "Misc Val           0.019273\n",
      "BsmtFin SF 2       0.006127\n",
      "Name: SalePrice, dtype: float64\n"
     ]
    }
   ],
   "source": [
    "# Strong correlation features\n",
    "strong_corr_coeffs = abs_corr_coeffs[abs_corr_coeffs > 0.4].copy()\n",
    "print('Selected features correlation:', strong_corr_coeffs, sep='\\n')\n",
    "weak_corr_coeffs = abs_corr_coeffs[abs_corr_coeffs < 0.4].copy()\n",
    "print('Removed features correlation:', weak_corr_coeffs, sep='\\n')\n",
    "\n",
    "# Drop weak correlation features\n",
    "data.drop(weak_corr_coeffs.index, axis=1, inplace=True)"
   ]
  },
  {
   "cell_type": "markdown",
   "metadata": {},
   "source": [
    "#### 2. Collinearity between the feature columns\n",
    "\n",
    "Collinearity is when 2 feature columns are highly correlated and stand the risk of duplicating information. If we have 2 features that convey the same information using 2 different measures or metrics, we don't need to keep both.\n",
    "\n",
    "While we can check for collinearity between 2 columns using the correlation matrix, we run the risk of information overload. We can instead generate a correlation matrix heatmap using Seaborn to visually compare the correlations and look for problematic pairwise feature correlations. Because we're looking for outlier values in the heatmap, this visual representation is easier."
   ]
  },
  {
   "cell_type": "code",
   "execution_count": 23,
   "metadata": {
    "collapsed": false
   },
   "outputs": [
    {
     "data": {
      "image/png": "[encoded data removed]",
      "text/plain": [
       "<matplotlib.figure.Figure at 0x7ff3417f2e10>"
      ]
     },
     "metadata": {},
     "output_type": "display_data"
    }
   ],
   "source": [
    "# Generate a new correlation heatmap of the numerical features\n",
    "numerical_data = data.select_dtypes(include=['int', 'float']).copy()\n",
    "numerical_data.drop('SalePrice', axis=1, inplace=True)\n",
    "corrs = numerical_data.corr()\n",
    "f, ax = plt.subplots(figsize=(24, 12))\n",
    "sns.heatmap(corrs, linewidths=.5, ax=ax)\n",
    "plt.show()"
   ]
  },
  {
   "cell_type": "markdown",
   "metadata": {},
   "source": [
    "Based on the correlation matrix heatmap, we can tell that the following pairs of columns are strongly correlated:\n",
    "\n",
    "- `Gr Liv Area` and `TotRms AbvGrd`\n",
    "- `Garage Area` and `Garage Cars`\n",
    "- `1st Flr SF` and `Total Bsmt SF`\n",
    "\n",
    "If we read the descriptions of these columns from the data documentation, we can tell that for the first two pair of columns the information reflected is very similar. Because `Gr Liv Area` and `Garage Area` are continuous variables that capture more nuance, let's drop the `TotRms AbvGrd` and `Garage Cars`.\n",
    "\n",
    "As per the third pair of columns, we can infer that 1st floor square feet and basement square feet are very related in common houses, so we can keep only one of them.\n"
   ]
  },
  {
   "cell_type": "code",
   "execution_count": 24,
   "metadata": {
    "collapsed": true
   },
   "outputs": [],
   "source": [
    "# Drop correlated columns\n",
    "data.drop(['Garage Cars', 'TotRms AbvGrd', 'Total Bsmt SF'], axis=1, inplace=True)"
   ]
  },
  {
   "cell_type": "markdown",
   "metadata": {},
   "source": [
    "#### 3. Variance of features\n",
    "\n",
    "The last technique we'll explore is removing features with low variance. When the values in a feature column have low variance, they don't meaningfully contribute to the model's predictive capability. On the extreme end, let's imagine a column with a variance of 0. This would mean that all of the values in that column were exactly the same. This means that the column isn't informative and isn't going to help the model make better predictions.\n",
    "\n",
    "To make apples to apples comparisons between columns, we need to rescale all of the columns to vary between 0 and 1. This is known as min-max scaling or as rescaling."
   ]
  },
  {
   "cell_type": "code",
   "execution_count": 29,
   "metadata": {
    "collapsed": false
   },
   "outputs": [
    {
     "name": "stdout",
     "output_type": "stream",
     "text": [
      "Check min values:\n",
      "Overall Qual         0.0\n",
      "Mas Vnr Area         0.0\n",
      "BsmtFin SF 1         0.0\n",
      "1st Flr SF           0.0\n",
      "Gr Liv Area          0.0\n",
      "Full Bath            0.0\n",
      "Fireplaces           0.0\n",
      "Garage Area          0.0\n",
      "Years Before Sale    0.0\n",
      "Years Since Remod    0.0\n",
      "dtype: float64\n",
      "Check max values:\n",
      "Overall Qual         1.0\n",
      "Mas Vnr Area         1.0\n",
      "BsmtFin SF 1         1.0\n",
      "1st Flr SF           1.0\n",
      "Gr Liv Area          1.0\n",
      "Full Bath            1.0\n",
      "Fireplaces           1.0\n",
      "Garage Area          1.0\n",
      "Years Before Sale    1.0\n",
      "Years Since Remod    1.0\n",
      "dtype: float64\n"
     ]
    }
   ],
   "source": [
    "# Rescaling of features\n",
    "numerical_data = data.select_dtypes(include=['int', 'float']).copy()\n",
    "numerical_data.drop('SalePrice', axis=1, inplace=True)\n",
    "numerical_data_rescaling = (numerical_data - numerical_data.min()) / (numerical_data.max() - numerical_data.min())\n",
    "print('Check min values:', numerical_data_rescaling.min(), sep='\\n')\n",
    "print('Check max values:', numerical_data_rescaling.max(), sep='\\n')"
   ]
  },
  {
   "cell_type": "markdown",
   "metadata": {},
   "source": [
    "Let's compute the variances and remove the columns with the lowest variance."
   ]
  },
  {
   "cell_type": "code",
   "execution_count": 30,
   "metadata": {
    "collapsed": false
   },
   "outputs": [
    {
     "name": "stdout",
     "output_type": "stream",
     "text": [
      "Years Since Remod    0.120806\n",
      "Years Before Sale    0.049585\n",
      "Fireplaces           0.026216\n",
      "Overall Qual         0.024461\n",
      "Garage Area          0.020827\n",
      "Full Bath            0.019077\n",
      "Mas Vnr Area         0.012250\n",
      "Gr Liv Area          0.008794\n",
      "1st Flr SF           0.007742\n",
      "BsmtFin SF 1         0.006348\n",
      "dtype: float64\n"
     ]
    }
   ],
   "source": [
    "# Compute variance of features\n",
    "print(numerical_data_rescaling.var().sort_values(ascending=False))"
   ]
  },
  {
   "cell_type": "markdown",
   "metadata": {},
   "source": [
    "We see that the last four columns with the lowest variance are far from the next ones, so we can safely remove these features and train and test a model using the remaining features."
   ]
  },
  {
   "cell_type": "code",
   "execution_count": 31,
   "metadata": {
    "collapsed": true
   },
   "outputs": [],
   "source": [
    "# Drop low variance columns\n",
    "data.drop(['Mas Vnr Area', 'Gr Liv Area', '1st Flr SF', 'BsmtFin SF 1'], axis=1, inplace=True)"
   ]
  },
  {
   "cell_type": "markdown",
   "metadata": {},
   "source": [
    "### Processing and transforming features\n",
    "\n",
    "We'll explore how to transform some of the remaining features so we can use them in our model. First, we'll analyze which columns in the data frame should be converted to the categorical data type. All of the columns that can be categorized as nominal variables are candidates for being converted to categorical. Here are some other things we should think about:\n",
    "\n",
    "- If a categorical column has hundreds of unique values (or categories), should we keep it? When we dummy code this column, hundreds of columns will need to be added back to the data frame.\n",
    "- Which categorical columns have a few unique values but more than 95% of the values in the column belong to a specific category? This would be similar to a low variance numerical feature (no variability in the data for the model to capture).\n",
    "- Which columns are currently numerical but need to be encoded as categorical instead (because the numbers don't have any semantic meaning)?"
   ]
  },
  {
   "cell_type": "code",
   "execution_count": 33,
   "metadata": {
    "collapsed": false
   },
   "outputs": [
    {
     "name": "stdout",
     "output_type": "stream",
     "text": [
      "Categorical features included:\n",
      "['MS Zoning', 'Street', 'Land Contour', 'Lot Config', 'Neighborhood', 'Condition 1', 'Condition 2', 'Bldg Type', 'House Style', 'Roof Style', 'Roof Matl', 'Exterior 1st', 'Exterior 2nd', 'Foundation', 'Heating', 'Central Air']\n"
     ]
    }
   ],
   "source": [
    "# List of nominal features \n",
    "nominal_features = [\"PID\", \"MS SubClass\", \"MS Zoning\", \"Street\", \"Alley\", \"Land Contour\", \"Lot Config\", \"Neighborhood\", \n",
    "                    \"Condition 1\", \"Condition 2\", \"Bldg Type\", \"House Style\", \"Roof Style\", \"Roof Matl\", \"Exterior 1st\", \n",
    "                    \"Exterior 2nd\", \"Mas Vnr Type\", \"Foundation\", \"Heating\", \"Central Air\", \"Garage Type\", \n",
    "                    \"Misc Feature\", \"Sale Type\", \"Sale Condition\"]\n",
    "\n",
    "# Check which categorical columns we still have\n",
    "data_cat_cols = []\n",
    "for col in nominal_features:\n",
    "    if col in data.columns:\n",
    "        data_cat_cols.append(col)\n",
    "\n",
    "print('Categorical features included:', data_cat_cols, sep='\\n')"
   ]
  },
  {
   "cell_type": "code",
   "execution_count": 39,
   "metadata": {
    "collapsed": false
   },
   "outputs": [
    {
     "name": "stdout",
     "output_type": "stream",
     "text": [
      "Uniqueness counts of categorical values:\n",
      "Neighborhood    28\n",
      "Exterior 2nd    17\n",
      "Exterior 1st    16\n",
      "Condition 1      9\n",
      "Roof Matl        8\n",
      "House Style      8\n",
      "Condition 2      8\n",
      "MS Zoning        7\n",
      "Heating          6\n",
      "Foundation       6\n",
      "Roof Style       6\n",
      "Bldg Type        5\n",
      "Lot Config       5\n",
      "Land Contour     4\n",
      "Central Air      2\n",
      "Street           2\n",
      "dtype: int64\n",
      "Removed features uniqueness counts:\n",
      "Neighborhood    28\n",
      "Exterior 2nd    17\n",
      "Exterior 1st    16\n",
      "dtype: int64\n"
     ]
    }
   ],
   "source": [
    "# Check how many unique values in each categorical column\n",
    "uniqueness_counts = data[data_cat_cols].apply(lambda col: len(col.value_counts())).sort_values(ascending=False)\n",
    "print('Uniqueness counts of categorical values:', uniqueness_counts, sep='\\n')\n",
    "\n",
    "# Aribtrary cutoff of 10 unique values\n",
    "drop_nonuniq_cols = uniqueness_counts[uniqueness_counts > 10]\n",
    "print('Removed features uniqueness counts:', drop_nonuniq_cols, sep='\\n')"
   ]
  },
  {
   "cell_type": "code",
   "execution_count": 40,
   "metadata": {
    "collapsed": true
   },
   "outputs": [],
   "source": [
    "data.drop(drop_nonuniq_cols.index, axis=1, inplace=True)"
   ]
  },
  {
   "cell_type": "code",
   "execution_count": 59,
   "metadata": {
    "collapsed": false
   },
   "outputs": [
    {
     "name": "stdout",
     "output_type": "stream",
     "text": [
      "Column: MS Zoning\n",
      "Majority value: 2270\n",
      "Sum of the rest of the values: 657\n",
      "Dominance percentage: 0.775538093611206\n",
      "Removal: no\n",
      "\n",
      "Column: Street\n",
      "Majority value: 2915\n",
      "Sum of the rest of the values: 12\n",
      "Dominance percentage: 0.9959002391527161\n",
      "Removal: yes\n",
      "\n",
      "Column: Land Contour\n",
      "Majority value: 2632\n",
      "Sum of the rest of the values: 295\n",
      "Dominance percentage: 0.8992142125042706\n",
      "Removal: no\n",
      "\n",
      "Column: Lot Config\n",
      "Majority value: 2138\n",
      "Sum of the rest of the values: 789\n",
      "Dominance percentage: 0.730440724291083\n",
      "Removal: no\n",
      "\n",
      "Column: Condition 1\n",
      "Majority value: 2520\n",
      "Sum of the rest of the values: 407\n",
      "Dominance percentage: 0.8609497779296208\n",
      "Removal: no\n",
      "\n",
      "Column: Condition 2\n",
      "Majority value: 2898\n",
      "Sum of the rest of the values: 29\n",
      "Dominance percentage: 0.9900922446190639\n",
      "Removal: yes\n",
      "\n",
      "Column: Bldg Type\n",
      "Majority value: 2422\n",
      "Sum of the rest of the values: 505\n",
      "Dominance percentage: 0.8274683976768021\n",
      "Removal: no\n",
      "\n",
      "Column: House Style\n",
      "Majority value: 1480\n",
      "Sum of the rest of the values: 1447\n",
      "Dominance percentage: 0.5056371711650154\n",
      "Removal: no\n",
      "\n",
      "Column: Roof Style\n",
      "Majority value: 2320\n",
      "Sum of the rest of the values: 607\n",
      "Dominance percentage: 0.792620430474889\n",
      "Removal: no\n",
      "\n",
      "Column: Roof Matl\n",
      "Majority value: 2884\n",
      "Sum of the rest of the values: 43\n",
      "Dominance percentage: 0.9853091902972326\n",
      "Removal: yes\n",
      "\n",
      "Column: Foundation\n",
      "Majority value: 1307\n",
      "Sum of the rest of the values: 1620\n",
      "Dominance percentage: 0.44653228561667235\n",
      "Removal: no\n",
      "\n",
      "Column: Heating\n",
      "Majority value: 2882\n",
      "Sum of the rest of the values: 45\n",
      "Dominance percentage: 0.9846258968226853\n",
      "Removal: yes\n",
      "\n",
      "Column: Central Air\n",
      "Majority value: 2731\n",
      "Sum of the rest of the values: 196\n",
      "Dominance percentage: 0.9330372394943628\n",
      "Removal: no\n",
      "\n"
     ]
    }
   ],
   "source": [
    "# Check percentage of unique values for the columns\n",
    "data_cat_cols = []\n",
    "for col in nominal_features:\n",
    "    if col in data.columns:\n",
    "        data_cat_cols.append(col)\n",
    "        \n",
    "for col in data_cat_cols:\n",
    "    value_counts = data[col].value_counts().sort_values(ascending=False)\n",
    "    print('Column:', col)\n",
    "    print('Majority value:', value_counts[0])\n",
    "    print('Sum of the rest of the values:', value_counts[1:].sum())\n",
    "    print('Dominance percentage:', value_counts[0]/(value_counts[0]+value_counts[1:].sum()))\n",
    "    print('Removal:', 'yes' if (value_counts[0]/(value_counts[0]+value_counts[1:].sum())) > 0.95 else 'no')\n",
    "    print('')"
   ]
  },
  {
   "cell_type": "code",
   "execution_count": 60,
   "metadata": {
    "collapsed": true
   },
   "outputs": [],
   "source": [
    "data.drop(['Street', 'Condition 2', 'Roof Matl', 'Heating'], axis=1, inplace=True)"
   ]
  },
  {
   "cell_type": "code",
   "execution_count": 61,
   "metadata": {
    "collapsed": true
   },
   "outputs": [],
   "source": [
    "# Select just the remaining text columns and convert to categorical\n",
    "text_cols = data.select_dtypes(include=['object'])\n",
    "for col in text_cols:\n",
    "    data[col] = data[col].astype('category')\n",
    "    \n",
    "# Create dummy columns and add back to the dataframe\n",
    "data = pd.concat([data, pd.get_dummies(data.select_dtypes(include=['category']))], axis=1).drop(text_cols, axis=1)"
   ]
  },
  {
   "cell_type": "code",
   "execution_count": 67,
   "metadata": {
    "collapsed": false
   },
   "outputs": [
    {
     "name": "stdout",
     "output_type": "stream",
     "text": [
      "<class 'pandas.core.frame.DataFrame'>\n",
      "Int64Index: 2927 entries, 0 to 2929\n",
      "Data columns (total 99 columns):\n",
      "Overall Qual          2927 non-null int64\n",
      "Full Bath             2927 non-null int64\n",
      "Fireplaces            2927 non-null int64\n",
      "Garage Area           2927 non-null float64\n",
      "SalePrice             2927 non-null int64\n",
      "Years Before Sale     2927 non-null int64\n",
      "Years Since Remod     2927 non-null int64\n",
      "MS Zoning_A (agr)     2927 non-null uint8\n",
      "MS Zoning_C (all)     2927 non-null uint8\n",
      "MS Zoning_FV          2927 non-null uint8\n",
      "MS Zoning_I (all)     2927 non-null uint8\n",
      "MS Zoning_RH          2927 non-null uint8\n",
      "MS Zoning_RL          2927 non-null uint8\n",
      "MS Zoning_RM          2927 non-null uint8\n",
      "Lot Shape_IR1         2927 non-null uint8\n",
      "Lot Shape_IR2         2927 non-null uint8\n",
      "Lot Shape_IR3         2927 non-null uint8\n",
      "Lot Shape_Reg         2927 non-null uint8\n",
      "Land Contour_Bnk      2927 non-null uint8\n",
      "Land Contour_HLS      2927 non-null uint8\n",
      "Land Contour_Low      2927 non-null uint8\n",
      "Land Contour_Lvl      2927 non-null uint8\n",
      "Utilities_AllPub      2927 non-null uint8\n",
      "Utilities_NoSeWa      2927 non-null uint8\n",
      "Utilities_NoSewr      2927 non-null uint8\n",
      "Lot Config_Corner     2927 non-null uint8\n",
      "Lot Config_CulDSac    2927 non-null uint8\n",
      "Lot Config_FR2        2927 non-null uint8\n",
      "Lot Config_FR3        2927 non-null uint8\n",
      "Lot Config_Inside     2927 non-null uint8\n",
      "Land Slope_Gtl        2927 non-null uint8\n",
      "Land Slope_Mod        2927 non-null uint8\n",
      "Land Slope_Sev        2927 non-null uint8\n",
      "Condition 1_Artery    2927 non-null uint8\n",
      "Condition 1_Feedr     2927 non-null uint8\n",
      "Condition 1_Norm      2927 non-null uint8\n",
      "Condition 1_PosA      2927 non-null uint8\n",
      "Condition 1_PosN      2927 non-null uint8\n",
      "Condition 1_RRAe      2927 non-null uint8\n",
      "Condition 1_RRAn      2927 non-null uint8\n",
      "Condition 1_RRNe      2927 non-null uint8\n",
      "Condition 1_RRNn      2927 non-null uint8\n",
      "Bldg Type_1Fam        2927 non-null uint8\n",
      "Bldg Type_2fmCon      2927 non-null uint8\n",
      "Bldg Type_Duplex      2927 non-null uint8\n",
      "Bldg Type_Twnhs       2927 non-null uint8\n",
      "Bldg Type_TwnhsE      2927 non-null uint8\n",
      "House Style_1.5Fin    2927 non-null uint8\n",
      "House Style_1.5Unf    2927 non-null uint8\n",
      "House Style_1Story    2927 non-null uint8\n",
      "House Style_2.5Fin    2927 non-null uint8\n",
      "House Style_2.5Unf    2927 non-null uint8\n",
      "House Style_2Story    2927 non-null uint8\n",
      "House Style_SFoyer    2927 non-null uint8\n",
      "House Style_SLvl      2927 non-null uint8\n",
      "Roof Style_Flat       2927 non-null uint8\n",
      "Roof Style_Gable      2927 non-null uint8\n",
      "Roof Style_Gambrel    2927 non-null uint8\n",
      "Roof Style_Hip        2927 non-null uint8\n",
      "Roof Style_Mansard    2927 non-null uint8\n",
      "Roof Style_Shed       2927 non-null uint8\n",
      "Exter Qual_Ex         2927 non-null uint8\n",
      "Exter Qual_Fa         2927 non-null uint8\n",
      "Exter Qual_Gd         2927 non-null uint8\n",
      "Exter Qual_TA         2927 non-null uint8\n",
      "Exter Cond_Ex         2927 non-null uint8\n",
      "Exter Cond_Fa         2927 non-null uint8\n",
      "Exter Cond_Gd         2927 non-null uint8\n",
      "Exter Cond_Po         2927 non-null uint8\n",
      "Exter Cond_TA         2927 non-null uint8\n",
      "Foundation_BrkTil     2927 non-null uint8\n",
      "Foundation_CBlock     2927 non-null uint8\n",
      "Foundation_PConc      2927 non-null uint8\n",
      "Foundation_Slab       2927 non-null uint8\n",
      "Foundation_Stone      2927 non-null uint8\n",
      "Foundation_Wood       2927 non-null uint8\n",
      "Heating QC_Ex         2927 non-null uint8\n",
      "Heating QC_Fa         2927 non-null uint8\n",
      "Heating QC_Gd         2927 non-null uint8\n",
      "Heating QC_Po         2927 non-null uint8\n",
      "Heating QC_TA         2927 non-null uint8\n",
      "Central Air_N         2927 non-null uint8\n",
      "Central Air_Y         2927 non-null uint8\n",
      "Kitchen Qual_Ex       2927 non-null uint8\n",
      "Kitchen Qual_Fa       2927 non-null uint8\n",
      "Kitchen Qual_Gd       2927 non-null uint8\n",
      "Kitchen Qual_Po       2927 non-null uint8\n",
      "Kitchen Qual_TA       2927 non-null uint8\n",
      "Functional_Maj1       2927 non-null uint8\n",
      "Functional_Maj2       2927 non-null uint8\n",
      "Functional_Min1       2927 non-null uint8\n",
      "Functional_Min2       2927 non-null uint8\n",
      "Functional_Mod        2927 non-null uint8\n",
      "Functional_Sal        2927 non-null uint8\n",
      "Functional_Sev        2927 non-null uint8\n",
      "Functional_Typ        2927 non-null uint8\n",
      "Paved Drive_N         2927 non-null uint8\n",
      "Paved Drive_P         2927 non-null uint8\n",
      "Paved Drive_Y         2927 non-null uint8\n",
      "dtypes: float64(1), int64(6), uint8(92)\n",
      "memory usage: 445.9 KB\n",
      "None\n"
     ]
    }
   ],
   "source": [
    "print(data.info())"
   ]
  },
  {
   "cell_type": "markdown",
   "metadata": {},
   "source": [
    "With all of this, the process is completed. We can now update the function `select_features`."
   ]
  },
  {
   "cell_type": "code",
   "execution_count": 65,
   "metadata": {
    "collapsed": true
   },
   "outputs": [],
   "source": [
    "# Function to return desired columns from dataframe\n",
    "def select_features(data):\n",
    "    numerical_data = data.select_dtypes(include=['int', 'float']).copy()\n",
    "    # Correlations with our target value\n",
    "    abs_corr_coeffs = numerical_data.corr()['SalePrice'].abs().sort_values(ascending=False).copy()\n",
    "    weak_corr_coeffs = abs_corr_coeffs[abs_corr_coeffs < 0.4].copy()\n",
    "    # Drop weak correlation features\n",
    "    data.drop(weak_corr_coeffs.index, axis=1, inplace=True)\n",
    "    # Drop correlated columns\n",
    "    data.drop(['Garage Cars', 'TotRms AbvGrd', 'Total Bsmt SF'], axis=1, inplace=True)\n",
    "    # Drop low variance columns\n",
    "    data.drop(['Mas Vnr Area', 'Gr Liv Area', '1st Flr SF', 'BsmtFin SF 1'], axis=1, inplace=True)\n",
    "    \n",
    "    # List of nominal features \n",
    "    nominal_features = [\"PID\", \"MS SubClass\", \"MS Zoning\", \"Street\", \"Alley\", \"Land Contour\", \"Lot Config\", \"Neighborhood\", \n",
    "                    \"Condition 1\", \"Condition 2\", \"Bldg Type\", \"House Style\", \"Roof Style\", \"Roof Matl\", \"Exterior 1st\", \n",
    "                    \"Exterior 2nd\", \"Mas Vnr Type\", \"Foundation\", \"Heating\", \"Central Air\", \"Garage Type\", \n",
    "                    \"Misc Feature\", \"Sale Type\", \"Sale Condition\"]\n",
    "    # Check which categorical columns we still have\n",
    "    data_cat_cols = []\n",
    "    for col in nominal_features:\n",
    "        if col in data.columns:\n",
    "            data_cat_cols.append(col)\n",
    "    # Check how many unique values in each categorical column\n",
    "    uniqueness_counts = data[data_cat_cols].apply(lambda col: len(col.value_counts())).sort_values(ascending=False).copy()\n",
    "    # Aribtrary cutoff of 10 unique values\n",
    "    drop_nonuniq_cols = uniqueness_counts[uniqueness_counts > 10].copy()\n",
    "    # Drop many unique values\n",
    "    data.drop(drop_nonuniq_cols.index, axis=1, inplace=True)\n",
    "    # Drop low variance unique values\n",
    "    data.drop(['Street', 'Condition 2', 'Roof Matl', 'Heating'], axis=1, inplace=True)\n",
    "    \n",
    "    # Select just the remaining text columns and convert to categorical\n",
    "    text_cols = data.select_dtypes(include=['object'])\n",
    "    for col in text_cols:\n",
    "        data[col] = data[col].astype('category')\n",
    "    \n",
    "    # Create dummy columns and add back to the dataframe\n",
    "    data = pd.concat([data, pd.get_dummies(data.select_dtypes(include=['category']))], axis=1).drop(text_cols, axis=1)\n",
    "\n",
    "    return data"
   ]
  },
  {
   "cell_type": "code",
   "execution_count": 69,
   "metadata": {
    "collapsed": false
   },
   "outputs": [
    {
     "name": "stdout",
     "output_type": "stream",
     "text": [
      "38116.017457655806\n"
     ]
    }
   ],
   "source": [
    "# Check results\n",
    "df = pd.read_csv(\"AmesHousing.tsv\", delimiter=\"\\t\")\n",
    "transform_df = transform_features(df)\n",
    "filtered_df = select_features(transform_df)\n",
    "rmse = train_and_test(filtered_df)\n",
    "print(rmse)"
   ]
  },
  {
   "cell_type": "markdown",
   "metadata": {},
   "source": [
    "### Train and test the model\n",
    "\n",
    "Now for the final part of the pipeline, training and testing. When iterating on different features, using simple validation is a good idea. Let's add a parameter named `k` that controls the type of cross validation that occurs."
   ]
  },
  {
   "cell_type": "code",
   "execution_count": 73,
   "metadata": {
    "collapsed": true
   },
   "outputs": [],
   "source": [
    "# Function to evaluate the linear regression model\n",
    "def train_and_test(data, k=0):\n",
    "    numerical_cols = data.select_dtypes(include=['uint8', 'int', 'float'])\n",
    "    numerical_cols.drop(columns='SalePrice', inplace=True)\n",
    "    cols = numerical_cols.columns\n",
    "    target = 'SalePrice'\n",
    "    lr = LinearRegression()\n",
    "    \n",
    "    if k == 0:\n",
    "        ### Holdout validation\n",
    "        \n",
    "        threshold = 1460\n",
    "        train = data[:threshold]\n",
    "        test = data[threshold:]\n",
    "\n",
    "        lr.fit(train[cols], train[target])\n",
    "        test_predictions = lr.predict(test[cols])\n",
    "        test_rmse = np.sqrt(mean_squared_error(test[target], test_predictions))\n",
    "        return test_rmse\n",
    "    \n",
    "    elif k == 1:\n",
    "        ### Simple cross validation\n",
    "        \n",
    "        threshold = 1460\n",
    "        # Randomize *all* rows (frac=1) from `df` and return\n",
    "        shuffled_data = data.sample(frac=1, )\n",
    "        fold_one = shuffled_data[:threshold]\n",
    "        fold_two = shuffled_data[threshold:]\n",
    "        \n",
    "        lr.fit(fold_one[cols], fold_one[target])\n",
    "        predictions_one = lr.predict(fold_two[cols])        \n",
    "        mse_one = mean_squared_error(fold_two[target], predictions_one)\n",
    "        rmse_one = np.sqrt(mse_one)\n",
    "        \n",
    "        lr.fit(fold_two[cols], fold_two[target])\n",
    "        predictions_two = lr.predict(fold_one[cols])        \n",
    "        mse_two = mean_squared_error(fold_one[target], predictions_two)\n",
    "        rmse_two = np.sqrt(mse_two)\n",
    "        avg_rmse = np.mean([rmse_one, rmse_two])\n",
    "        return avg_rmse\n",
    "    \n",
    "    else:\n",
    "        ### K-fold cross validation\n",
    "        \n",
    "        kf = KFold(n_splits=k, shuffle=True)\n",
    "        rmse_values = []\n",
    "        for train_index, test_index, in kf.split(data):\n",
    "            train = data.iloc[train_index]\n",
    "            test = data.iloc[test_index]\n",
    "            lr.fit(train[cols], train[target])\n",
    "            predictions = lr.predict(test[cols])\n",
    "            mse = mean_squared_error(test[target], predictions)\n",
    "            rmse = np.sqrt(mse)\n",
    "            rmse_values.append(rmse)\n",
    "        avg_rmse = np.mean(rmse_values)\n",
    "        return rmse_values, avg_rmse"
   ]
  },
  {
   "cell_type": "code",
   "execution_count": 77,
   "metadata": {
    "collapsed": false
   },
   "outputs": [
    {
     "name": "stdout",
     "output_type": "stream",
     "text": [
      "Holdout validation rmse result:\n",
      "38116.017457655806\n",
      "Simple cross validation rmse result:\n",
      "36375.437693230255\n",
      "K-fold cross validation rmse results:\n",
      "[38654.24735103978, 29232.934713622617, 32891.065944043134, 32307.330411463165, 36923.494360675984, 30326.539337978003, 38836.71504756511, 37780.57867437066, 44335.73605858562, 31811.372453065876]\n",
      "35310.001435241\n"
     ]
    }
   ],
   "source": [
    "# Check final results\n",
    "df = pd.read_csv(\"AmesHousing.tsv\", delimiter=\"\\t\")\n",
    "transform_df = transform_features(df)\n",
    "filtered_df = select_features(transform_df)\n",
    "rmse = train_and_test(filtered_df, k=0)\n",
    "print('Holdout validation rmse result:', rmse, sep='\\n')\n",
    "\n",
    "df = pd.read_csv(\"AmesHousing.tsv\", delimiter=\"\\t\")\n",
    "transform_df = transform_features(df)\n",
    "filtered_df = select_features(transform_df)\n",
    "rmse = train_and_test(filtered_df, k=1)\n",
    "print('Simple cross validation rmse result:', rmse, sep='\\n')\n",
    "\n",
    "df = pd.read_csv(\"AmesHousing.tsv\", delimiter=\"\\t\")\n",
    "transform_df = transform_features(df)\n",
    "filtered_df = select_features(transform_df)\n",
    "rmse_values, rmse = train_and_test(filtered_df, k=10)\n",
    "print('K-fold cross validation rmse results:', rmse_values, rmse, sep='\\n')"
   ]
  },
  {
   "cell_type": "markdown",
   "metadata": {},
   "source": [
    "These are the final results for the linear regression model. Here's some potenial next steps that can improve the model performance:\n",
    "\n",
    "- Continue iteration on feature engineering.\n",
    "- Improve the feature selection."
   ]
  }
 ],
 "metadata": {
  "anaconda-cloud": {},
  "kernelspec": {
   "display_name": "Python 3",
   "language": "python",
   "name": "python3"
  },
  "language_info": {
   "codemirror_mode": {
    "name": "ipython",
    "version": 3
   },
   "file_extension": ".py",
   "mimetype": "text/x-python",
   "name": "python",
   "nbconvert_exporter": "python",
   "pygments_lexer": "ipython3",
   "version": "3.4.3"
  }
 },
 "nbformat": 4,
 "nbformat_minor": 2
}
